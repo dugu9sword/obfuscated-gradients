{
 "cells": [
  {
   "cell_type": "code",
   "execution_count": 1,
   "metadata": {},
   "outputs": [],
   "source": [
    "%load_ext autoreload\n",
    "%autoreload 2\n",
    "import tensorflow as tf\n",
    "import numpy as np\n",
    "import math\n",
    "import matplotlib.pyplot as plt\n",
    "%matplotlib inline\n",
    "\n",
    "import cifar10_input\n",
    "\n",
    "from discretization_utils import one_hot_to_thermometer\n",
    "from discretization_utils import discretize_uniform\n",
    "from discretization_attacks import adv_lspga\n",
    "\n",
    "from cifar_model import Model\n",
    "import cifar10_input\n",
    "levels = 16"
   ]
  },
  {
   "cell_type": "code",
   "execution_count": 2,
   "metadata": {},
   "outputs": [
    {
     "name": "stderr",
     "output_type": "stream",
     "text": [
      "WARNING: Logging before flag parsing goes to stderr.\n",
      "W0219 10:29:23.250988 140016611698496 module_wrapper.py:139] From /home/zhouyi/obfuscated-gradients/thermometer/cifar_model.py:23: The name tf.variable_scope is deprecated. Please use tf.compat.v1.variable_scope instead.\n",
      "\n",
      "W0219 10:29:23.252596 140016611698496 module_wrapper.py:139] From /home/zhouyi/obfuscated-gradients/thermometer/cifar_model.py:23: The name tf.AUTO_REUSE is deprecated. Please use tf.compat.v1.AUTO_REUSE instead.\n",
      "\n",
      "W0219 10:29:23.253899 140016611698496 module_wrapper.py:139] From /home/zhouyi/obfuscated-gradients/thermometer/cifar_model.py:55: The name tf.placeholder is deprecated. Please use tf.compat.v1.placeholder instead.\n",
      "\n",
      "W0219 10:29:23.296678 140016611698496 deprecation.py:323] From /opt/anaconda3/lib/python3.7/site-packages/tensorflow_core/python/ops/image_ops_impl.py:1518: div (from tensorflow.python.ops.math_ops) is deprecated and will be removed in a future version.\n",
      "Instructions for updating:\n",
      "Deprecated in favor of operator or tf.math.divide.\n",
      "W0219 10:29:23.308967 140016611698496 module_wrapper.py:139] From /home/zhouyi/obfuscated-gradients/thermometer/cifar_model.py:195: The name tf.get_variable is deprecated. Please use tf.compat.v1.get_variable instead.\n",
      "\n",
      "W0219 10:29:23.318133 140016611698496 lazy_loader.py:50] \n",
      "The TensorFlow contrib module will not be included in TensorFlow 2.0.\n",
      "For more information, please see:\n",
      "  * https://github.com/tensorflow/community/blob/master/rfcs/20180907-contrib-sunset.md\n",
      "  * https://github.com/tensorflow/addons\n",
      "  * https://github.com/tensorflow/io (for I/O related ops)\n",
      "If you depend on functionality not listed there, please file an issue.\n",
      "\n",
      "W0219 10:29:23.335234 140016611698496 deprecation.py:323] From /home/zhouyi/obfuscated-gradients/thermometer/cifar_model.py:203: where (from tensorflow.python.ops.array_ops) is deprecated and will be removed in a future version.\n",
      "Instructions for updating:\n",
      "Use tf.where in 2.0, which has the same broadcast rule as np.where\n",
      "W0219 10:29:23.366406 140016611698496 module_wrapper.py:139] From /home/zhouyi/obfuscated-gradients/thermometer/cifar_model.py:174: The name tf.nn.avg_pool is deprecated. Please use tf.nn.avg_pool2d instead.\n",
      "\n",
      "W0219 10:29:23.370812 140016611698496 module_wrapper.py:139] From /home/zhouyi/obfuscated-gradients/thermometer/cifar_model.py:180: The name tf.logging.debug is deprecated. Please use tf.compat.v1.logging.debug instead.\n",
      "\n"
     ]
    },
    {
     "name": "stdout",
     "output_type": "stream",
     "text": [
      "Called\n"
     ]
    },
    {
     "name": "stderr",
     "output_type": "stream",
     "text": [
      "W0219 10:29:24.014867 140016611698496 deprecation.py:323] From /opt/anaconda3/lib/python3.7/site-packages/tensorflow_core/python/util/deprecation.py:507: UniformUnitScaling.__init__ (from tensorflow.python.ops.init_ops) is deprecated and will be removed in a future version.\n",
      "Instructions for updating:\n",
      "Use tf.initializers.variance_scaling instead with distribution=uniform to get equivalent behavior.\n",
      "W0219 10:29:24.026081 140016611698496 module_wrapper.py:139] From /home/zhouyi/obfuscated-gradients/thermometer/cifar_model.py:217: The name tf.nn.xw_plus_b is deprecated. Please use tf.compat.v1.nn.xw_plus_b instead.\n",
      "\n",
      "W0219 10:29:24.039838 140016611698496 module_wrapper.py:139] From /home/zhouyi/obfuscated-gradients/thermometer/cifar_model.py:186: The name tf.trainable_variables is deprecated. Please use tf.compat.v1.trainable_variables instead.\n",
      "\n",
      "W0219 10:29:24.058527 140016611698496 module_wrapper.py:139] From /home/zhouyi/obfuscated-gradients/thermometer/cifar_model.py:30: The name tf.train.Saver is deprecated. Please use tf.compat.v1.train.Saver instead.\n",
      "\n"
     ]
    },
    {
     "name": "stdout",
     "output_type": "stream",
     "text": [
      "restored\n"
     ]
    }
   ],
   "source": [
    "sess = tf.Session()\n",
    "cifar = cifar10_input.CIFAR10Data()\n",
    "model = Model('../models/thermometer_advtrain/',\n",
    "              sess, tiny=False, mode='eval',\n",
    "              thermometer=True, levels=levels)"
   ]
  },
  {
   "cell_type": "code",
   "execution_count": 10,
   "metadata": {},
   "outputs": [
    {
     "data": {
      "image/png": "[encoded data removed]",
      "text/plain": [
       "<Figure size 432x288 with 1 Axes>"
      ]
     },
     "metadata": {
      "needs_background": "light"
     },
     "output_type": "display_data"
    },
    {
     "name": "stdout",
     "output_type": "stream",
     "text": [
      "Image Label [3]\n",
      "255.0\n",
      "[1. 1. 1. 1. 1. 1. 1. 1. 1. 1. 1. 1. 1. 1. 1. 1.]\n",
      "Clean Model Prediction [3]\n",
      "Logits [[-1.3203267  2.5833201 -5.594299  10.163102  -5.0236144  6.102193\n",
      "  -4.962522  -3.071897  -1.2005491  2.324844 ]]\n",
      "246.0\n",
      "[1.    1.    1.    1.    1.    1.    1.    1.    1.    1.    1.    1.\n",
      " 1.    1.    1.    0.375]\n",
      "246.0\n",
      "[1.    1.    1.    1.    1.    1.    1.    1.    1.    1.    1.    1.\n",
      " 1.    1.    1.    0.375]\n",
      "246.0\n",
      "[1.    1.    1.    1.    1.    1.    1.    1.    1.    1.    1.    1.\n",
      " 1.    1.    1.    0.375]\n",
      "246.0\n",
      "[1.    1.    1.    1.    1.    1.    1.    1.    1.    1.    1.    1.\n",
      " 1.    1.    1.    0.375]\n",
      "246.0\n",
      "[1.    1.    1.    1.    1.    1.    1.    1.    1.    1.    1.    1.\n",
      " 1.    1.    1.    0.375]\n",
      "246.0\n",
      "[1.    1.    1.    1.    1.    1.    1.    1.    1.    1.    1.    1.\n",
      " 1.    1.    1.    0.375]\n",
      "246.0\n",
      "[1.    1.    1.    1.    1.    1.    1.    1.    1.    1.    1.    1.\n",
      " 1.    1.    1.    0.375]\n",
      "246.0\n",
      "[1.    1.    1.    1.    1.    1.    1.    1.    1.    1.    1.    1.\n",
      " 1.    1.    1.    0.375]\n",
      "246.0\n",
      "[1.    1.    1.    1.    1.    1.    1.    1.    1.    1.    1.    1.\n",
      " 1.    1.    1.    0.375]\n",
      "246.30707\n",
      "[1.         1.         1.         1.         1.         1.\n",
      " 1.         1.         1.         1.         1.         1.\n",
      " 1.         1.         1.         0.39419174]\n",
      "246.26231\n",
      "[1.         1.         1.         1.         1.         1.\n",
      " 1.         1.         1.         1.         1.         1.\n",
      " 1.         1.         1.         0.39139462]\n",
      "246.22577\n",
      "[1.         1.         1.         1.         1.         1.\n",
      " 1.         1.         1.         1.         1.         1.\n",
      " 1.         1.         1.         0.38911057]\n",
      "246.46365\n",
      "[1.         1.         1.         1.         1.         1.\n",
      " 1.         1.         1.         1.         1.         1.\n",
      " 1.         1.         1.         0.40397835]\n",
      "246.66286\n",
      "[1.         1.         1.         1.         1.         1.\n",
      " 1.         1.         1.         1.         1.         1.\n",
      " 1.         1.         1.         0.41642857]\n",
      "246.83124\n",
      "[1.         1.         1.         1.         1.         1.\n",
      " 1.         1.         1.         1.         1.         1.\n",
      " 1.         1.         1.         0.42695236]\n",
      "246.9747\n",
      "[1.        1.        1.        1.        1.        1.        1.\n",
      " 1.        1.        1.        1.        1.        1.        1.\n",
      " 1.        0.4359188]\n",
      "247.09775\n",
      "[1.         1.         1.         1.         1.         1.\n",
      " 1.         1.         1.         1.         1.         1.\n",
      " 1.         1.         1.         0.44360924]\n",
      "247.30167\n",
      "[1.         1.         1.         1.         1.         1.\n",
      " 1.         1.         1.         1.         1.         1.\n",
      " 1.         1.         1.         0.45635414]\n",
      "247.59763\n",
      "[1.        1.        1.        1.        1.        1.        1.\n",
      " 1.        1.        1.        1.        1.        1.        1.\n",
      " 1.        0.4748516]\n",
      "247.97372\n",
      "[1.         1.         1.         1.         1.         1.\n",
      " 1.         1.         1.         1.         1.         1.\n",
      " 1.         1.         1.         0.49835777]\n",
      "248.41988\n",
      "[1.         1.         1.         1.         1.         1.\n",
      " 1.         1.         1.         1.         1.         1.\n",
      " 1.         1.         1.         0.52624226]\n",
      "248.92747\n",
      "[1.        1.        1.        1.        1.        1.        1.\n",
      " 1.        1.        1.        1.        1.        1.        1.\n",
      " 1.        0.5579672]\n",
      "249.48909\n",
      "[1.        1.        1.        1.        1.        1.        1.\n",
      " 1.        1.        1.        1.        1.        1.        1.\n",
      " 1.        0.5930681]\n",
      "250.09834\n",
      "[1.         1.         1.         1.         1.         1.\n",
      " 1.         1.         1.         1.         1.         1.\n",
      " 1.         1.         1.         0.63114643]\n",
      "250.7497\n",
      "[1.        1.        1.        1.        1.        1.        1.\n",
      " 1.        1.        1.        1.        1.        1.        1.\n",
      " 1.        0.6718559]\n",
      "251.43832\n",
      "[1.         1.         1.         1.         1.         1.\n",
      " 1.         1.         1.         1.         1.         1.\n",
      " 1.         1.         1.         0.71489525]\n",
      "251.94766\n",
      "[1.        1.        1.        1.        1.        1.        1.\n",
      " 1.        1.        1.        1.        1.        1.        1.\n",
      " 1.        0.7467289]\n",
      "252.29773\n",
      "[1.        1.        1.        1.        1.        1.        1.\n",
      " 1.        1.        1.        1.        1.        1.        1.\n",
      " 1.        0.7686081]\n",
      "252.50612\n",
      "[1.        1.        1.        1.        1.        1.        1.\n",
      " 1.        1.        1.        1.        1.        1.        1.\n",
      " 1.        0.7816324]\n",
      "252.58832\n",
      "[1.         1.         1.         1.         1.         1.\n",
      " 1.         1.         1.         1.         1.         1.\n",
      " 1.         1.         1.         0.78676987]\n"
     ]
    },
    {
     "data": {
      "image/png": "[encoded data removed]",
      "text/plain": [
       "<Figure size 432x288 with 1 Axes>"
      ]
     },
     "metadata": {
      "needs_background": "light"
     },
     "output_type": "display_data"
    },
    {
     "name": "stdout",
     "output_type": "stream",
     "text": [
      "Max distortion 0.031372577\n",
      "[252.58832 112.64418  41.     ]\n",
      "[[1. 1. 1. 1. 1. 1. 1. 1. 1. 1. 1. 1. 1. 1. 1. 1.]\n",
      " [1. 1. 1. 1. 1. 1. 1. 1. 0. 0. 0. 0. 0. 0. 0. 0.]\n",
      " [1. 1. 1. 0. 0. 0. 0. 0. 0. 0. 0. 0. 0. 0. 0. 0.]]\n",
      "Adversarial Model Prediction [5]\n",
      "Logits [[-1.0054284  0.6727066 -6.330113   1.1263535 -2.2629638 10.420122\n",
      "  -0.5251962 -1.7024049 -1.5765673  1.1837577]]\n"
     ]
    }
   ],
   "source": [
    "class Attack:\n",
    "    def __init__(self, model, num_steps, step_size, epsilon):\n",
    "        self.model = model\n",
    "        self.num_steps = num_steps\n",
    "        self.step_size = step_size\n",
    "\n",
    "        self.xs = tf.Variable(np.zeros((1, 32, 32, 3), dtype=np.float32),\n",
    "                                    name='modifier')\n",
    "        self.orig_xs = tf.placeholder(tf.float32, [None, 32, 32, 3])\n",
    "\n",
    "        self.ys = tf.placeholder(tf.int32, [None])\n",
    "\n",
    "        self.epsilon = epsilon\n",
    "\n",
    "        delta = tf.clip_by_value(self.xs, 0, 255) - self.orig_xs\n",
    "        delta = tf.clip_by_value(delta, -self.epsilon, self.epsilon)\n",
    "\n",
    "        self.do_clip_xs = tf.assign(self.xs, self.orig_xs+delta)\n",
    "        \n",
    "        \n",
    "        # 0.,  16.,  32.,  48.,  64.,  80.,  96., 112., 128., 144., 160., 176., 192., 208., 224.，  256.\n",
    "        compare = tf.constant((256.0/levels)*np.arange(0,levels).reshape((1,1,1,1,levels)),\n",
    "                              dtype=tf.float32)\n",
    "        inner = tf.reshape(self.xs,(-1, 32, 32, 3, 1)) - compare\n",
    "        inner = tf.maximum(tf.minimum(inner/(256.0/levels), 1.0), 0.0)\n",
    "\n",
    "        self.therm = tf.reshape(inner, (-1, 32, 32, levels*3))\n",
    "\n",
    "        self.logits = logits = model(self.therm)\n",
    "\n",
    "        self.uniform = discretize_uniform(self.xs/255.0, levels=levels, thermometer=True)\n",
    "        self.real_logits = model(self.uniform)\n",
    "\n",
    "        label_mask = tf.one_hot(self.ys, 10)\n",
    "        correct_logit = tf.reduce_sum(label_mask * logits, axis=1)\n",
    "        wrong_logit = tf.reduce_max((1-label_mask) * logits - 1e4*label_mask, axis=1)\n",
    "\n",
    "        self.loss = (correct_logit - wrong_logit)\n",
    "\n",
    "        start_vars = set(x.name for x in tf.global_variables())\n",
    "        optimizer = tf.train.AdamOptimizer(step_size*1)\n",
    "        self.grad = tf.sign(tf.gradients(self.loss, self.xs)[0])\n",
    "\n",
    "        grad,var = optimizer.compute_gradients(self.loss, [self.xs])[0]\n",
    "        self.train = optimizer.apply_gradients([(tf.sign(grad),var)])\n",
    "\n",
    "        end_vars = tf.global_variables()\n",
    "        self.new_vars = [x for x in end_vars if x.name not in start_vars]\n",
    "\n",
    "    def perturb(self, x, y, sess):\n",
    "        sess.run(tf.variables_initializer(self.new_vars))\n",
    "        sess.run(self.xs.initializer)\n",
    "        sess.run(self.do_clip_xs,\n",
    "                 {self.orig_xs: x})\n",
    "        \n",
    "        for i in range(self.num_steps):\n",
    "\n",
    "            t = sess.run(self.uniform)\n",
    "            sess.run(self.train, feed_dict={self.ys: y,\n",
    "                                            self.therm: t})\n",
    "            print(sess.run(self.xs)[0][0][0][0])\n",
    "            print(sess.run(self.therm)[0][0][0].reshape(3, -1)[0])\n",
    "            sess.run(self.therm)\n",
    "            sess.run(self.do_clip_xs,\n",
    "                     {self.orig_xs: x})\n",
    "\n",
    "        return sess.run(self.xs)\n",
    "    \n",
    "    \n",
    "attack = Attack(model,\n",
    "                30,\n",
    "                1,\n",
    "                8)\n",
    "\n",
    "xs = tf.placeholder(tf.float32, (1, 32, 32, 3))\n",
    "encode = discretize_uniform(xs/255.0, levels=levels, thermometer=True)\n",
    "\n",
    "image = np.array(cifar.eval_data.xs[:1],dtype=np.float32)\n",
    "label = cifar.eval_data.ys[:1]\n",
    "\n",
    "image[0][0][0][0] = 255\n",
    "\n",
    "plt.imshow(image[0]/255.0)\n",
    "plt.show()\n",
    "print(\"Image Label\", label)\n",
    "\n",
    "thermometer_encoded = sess.run(encode, {xs: image})\n",
    "\n",
    "print(image[0][0][0][0])\n",
    "print(thermometer_encoded[0][0][0].reshape(3, -1)[0])\n",
    "\n",
    "print('Clean Model Prediction',\n",
    "      sess.run(model.predictions, {model.x_input: thermometer_encoded}))\n",
    "print('Logits',\n",
    "      sess.run(model.pre_softmax, {model.x_input: thermometer_encoded}))\n",
    "\n",
    "\n",
    "\n",
    "adversarial = attack.perturb(image, label, sess)\n",
    "plt.imshow(adversarial[0]/255.0)\n",
    "plt.show()\n",
    "\n",
    "print(\"Max distortion\", np.max(np.abs(adversarial/255.0-image/255.0)))\n",
    "\n",
    "adv_thermometer_encoded = sess.run(encode, {xs: adversarial})\n",
    "\n",
    "print(adversarial[0][0][0])\n",
    "print(adv_thermometer_encoded[0][0][0].reshape(3, -1))\n",
    "\n",
    "print('Adversarial Model Prediction',\n",
    "      sess.run(model.predictions, {model.x_input: adv_thermometer_encoded}))\n",
    "print('Logits',\n",
    "      sess.run(model.pre_softmax, {model.x_input: adv_thermometer_encoded}))"
   ]
  },
  {
   "cell_type": "code",
   "execution_count": 21,
   "metadata": {},
   "outputs": [
    {
     "ename": "TypeError",
     "evalue": "input must be a dictionary",
     "output_type": "error",
     "traceback": [
      "\u001b[0;31m---------------------------------------------------------------------------\u001b[0m",
      "\u001b[0;31mTypeError\u001b[0m                                 Traceback (most recent call last)",
      "\u001b[0;32m<ipython-input-21-6c886959b697>\u001b[0m in \u001b[0;36m<module>\u001b[0;34m\u001b[0m\n\u001b[0;32m----> 1\u001b[0;31m \u001b[0msess\u001b[0m\u001b[0;34m.\u001b[0m\u001b[0mrun\u001b[0m\u001b[0;34m(\u001b[0m\u001b[0;32mlambda\u001b[0m \u001b[0mx\u001b[0m\u001b[0;34m:\u001b[0m \u001b[0mprint\u001b[0m\u001b[0;34m(\u001b[0m\u001b[0mx\u001b[0m\u001b[0;34m)\u001b[0m\u001b[0;34m,\u001b[0m \u001b[0;34m{\u001b[0m \u001b[0;34m\"fuck\"\u001b[0m\u001b[0;34m}\u001b[0m\u001b[0;34m)\u001b[0m\u001b[0;34m\u001b[0m\u001b[0;34m\u001b[0m\u001b[0m\n\u001b[0m",
      "\u001b[0;32m/opt/anaconda3/lib/python3.7/site-packages/tensorflow_core/python/client/session.py\u001b[0m in \u001b[0;36mrun\u001b[0;34m(self, fetches, feed_dict, options, run_metadata)\u001b[0m\n\u001b[1;32m    954\u001b[0m     \u001b[0;32mtry\u001b[0m\u001b[0;34m:\u001b[0m\u001b[0;34m\u001b[0m\u001b[0;34m\u001b[0m\u001b[0m\n\u001b[1;32m    955\u001b[0m       result = self._run(None, fetches, feed_dict, options_ptr,\n\u001b[0;32m--> 956\u001b[0;31m                          run_metadata_ptr)\n\u001b[0m\u001b[1;32m    957\u001b[0m       \u001b[0;32mif\u001b[0m \u001b[0mrun_metadata\u001b[0m\u001b[0;34m:\u001b[0m\u001b[0;34m\u001b[0m\u001b[0;34m\u001b[0m\u001b[0m\n\u001b[1;32m    958\u001b[0m         \u001b[0mproto_data\u001b[0m \u001b[0;34m=\u001b[0m \u001b[0mtf_session\u001b[0m\u001b[0;34m.\u001b[0m\u001b[0mTF_GetBuffer\u001b[0m\u001b[0;34m(\u001b[0m\u001b[0mrun_metadata_ptr\u001b[0m\u001b[0;34m)\u001b[0m\u001b[0;34m\u001b[0m\u001b[0;34m\u001b[0m\u001b[0m\n",
      "\u001b[0;32m/opt/anaconda3/lib/python3.7/site-packages/tensorflow_core/python/client/session.py\u001b[0m in \u001b[0;36m_run\u001b[0;34m(self, handle, fetches, feed_dict, options, run_metadata)\u001b[0m\n\u001b[1;32m   1113\u001b[0m     \u001b[0mfeed_handles\u001b[0m \u001b[0;34m=\u001b[0m \u001b[0;34m{\u001b[0m\u001b[0;34m}\u001b[0m\u001b[0;34m\u001b[0m\u001b[0;34m\u001b[0m\u001b[0m\n\u001b[1;32m   1114\u001b[0m     \u001b[0;32mif\u001b[0m \u001b[0mfeed_dict\u001b[0m\u001b[0;34m:\u001b[0m\u001b[0;34m\u001b[0m\u001b[0;34m\u001b[0m\u001b[0m\n\u001b[0;32m-> 1115\u001b[0;31m       \u001b[0mfeed_dict\u001b[0m \u001b[0;34m=\u001b[0m \u001b[0mnest\u001b[0m\u001b[0;34m.\u001b[0m\u001b[0mflatten_dict_items\u001b[0m\u001b[0;34m(\u001b[0m\u001b[0mfeed_dict\u001b[0m\u001b[0;34m)\u001b[0m\u001b[0;34m\u001b[0m\u001b[0;34m\u001b[0m\u001b[0m\n\u001b[0m\u001b[1;32m   1116\u001b[0m       \u001b[0;32mfor\u001b[0m \u001b[0mfeed\u001b[0m\u001b[0;34m,\u001b[0m \u001b[0mfeed_val\u001b[0m \u001b[0;32min\u001b[0m \u001b[0mfeed_dict\u001b[0m\u001b[0;34m.\u001b[0m\u001b[0mitems\u001b[0m\u001b[0;34m(\u001b[0m\u001b[0;34m)\u001b[0m\u001b[0;34m:\u001b[0m\u001b[0;34m\u001b[0m\u001b[0;34m\u001b[0m\u001b[0m\n\u001b[1;32m   1117\u001b[0m         \u001b[0;32mfor\u001b[0m \u001b[0msubfeed\u001b[0m\u001b[0;34m,\u001b[0m \u001b[0msubfeed_val\u001b[0m \u001b[0;32min\u001b[0m \u001b[0m_feed_fn\u001b[0m\u001b[0;34m(\u001b[0m\u001b[0mfeed\u001b[0m\u001b[0;34m,\u001b[0m \u001b[0mfeed_val\u001b[0m\u001b[0;34m)\u001b[0m\u001b[0;34m:\u001b[0m\u001b[0;34m\u001b[0m\u001b[0;34m\u001b[0m\u001b[0m\n",
      "\u001b[0;32m/opt/anaconda3/lib/python3.7/site-packages/tensorflow_core/python/util/nest.py\u001b[0m in \u001b[0;36mflatten_dict_items\u001b[0;34m(dictionary)\u001b[0m\n\u001b[1;32m    358\u001b[0m   \"\"\"\n\u001b[1;32m    359\u001b[0m   \u001b[0;32mif\u001b[0m \u001b[0;32mnot\u001b[0m \u001b[0misinstance\u001b[0m\u001b[0;34m(\u001b[0m\u001b[0mdictionary\u001b[0m\u001b[0;34m,\u001b[0m \u001b[0;34m(\u001b[0m\u001b[0mdict\u001b[0m\u001b[0;34m,\u001b[0m \u001b[0m_collections_abc\u001b[0m\u001b[0;34m.\u001b[0m\u001b[0mMapping\u001b[0m\u001b[0;34m)\u001b[0m\u001b[0;34m)\u001b[0m\u001b[0;34m:\u001b[0m\u001b[0;34m\u001b[0m\u001b[0;34m\u001b[0m\u001b[0m\n\u001b[0;32m--> 360\u001b[0;31m     \u001b[0;32mraise\u001b[0m \u001b[0mTypeError\u001b[0m\u001b[0;34m(\u001b[0m\u001b[0;34m\"input must be a dictionary\"\u001b[0m\u001b[0;34m)\u001b[0m\u001b[0;34m\u001b[0m\u001b[0;34m\u001b[0m\u001b[0m\n\u001b[0m\u001b[1;32m    361\u001b[0m   \u001b[0mflat_dictionary\u001b[0m \u001b[0;34m=\u001b[0m \u001b[0;34m{\u001b[0m\u001b[0;34m}\u001b[0m\u001b[0;34m\u001b[0m\u001b[0;34m\u001b[0m\u001b[0m\n\u001b[1;32m    362\u001b[0m   \u001b[0;32mfor\u001b[0m \u001b[0mi\u001b[0m\u001b[0;34m,\u001b[0m \u001b[0mv\u001b[0m \u001b[0;32min\u001b[0m \u001b[0m_six\u001b[0m\u001b[0;34m.\u001b[0m\u001b[0miteritems\u001b[0m\u001b[0;34m(\u001b[0m\u001b[0mdictionary\u001b[0m\u001b[0;34m)\u001b[0m\u001b[0;34m:\u001b[0m\u001b[0;34m\u001b[0m\u001b[0;34m\u001b[0m\u001b[0m\n",
      "\u001b[0;31mTypeError\u001b[0m: input must be a dictionary"
     ]
    }
   ],
   "source": [
    "# sess.run(lambda x: print(x), { \"fuck\"})"
   ]
  },
  {
   "cell_type": "code",
   "execution_count": 14,
   "metadata": {},
   "outputs": [
    {
     "data": {
      "text/plain": [
       "array([[[[[-16.,   0.,  16.,  32.,  48.,  64.,  80.,  96., 112., 128.,\n",
       "           144., 160., 176., 192., 208., 224.]]]]], dtype=float32)"
      ]
     },
     "execution_count": 14,
     "metadata": {},
     "output_type": "execute_result"
    }
   ],
   "source": [
    "sess.run(tf.constant((256.0/levels)*np.arange(-1,levels-1).reshape((1,1,1,1,levels)),\n",
    "                              dtype=tf.float32))"
   ]
  }
 ],
 "metadata": {
  "kernelspec": {
   "display_name": "Python 3",
   "language": "python",
   "name": "python3"
  },
  "language_info": {
   "codemirror_mode": {
    "name": "ipython",
    "version": 3
   },
   "file_extension": ".py",
   "mimetype": "text/x-python",
   "name": "python",
   "nbconvert_exporter": "python",
   "pygments_lexer": "ipython3",
   "version": "3.7.3"
  }
 },
 "nbformat": 4,
 "nbformat_minor": 4
}
