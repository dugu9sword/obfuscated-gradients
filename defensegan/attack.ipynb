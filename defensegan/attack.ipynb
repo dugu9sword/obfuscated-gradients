{
 "cells": [
  {
   "cell_type": "code",
   "execution_count": 18,
   "metadata": {},
   "outputs": [],
   "source": [
    "from keras.datasets import mnist\n",
    "import matplotlib\n",
    "# %matplotlib inline\n",
    "import matplotlib.pyplot as plt\n",
    "import l2_attack\n",
    "import keras\n",
    "from defense import *"
   ]
  },
  {
   "cell_type": "code",
   "execution_count": 15,
   "metadata": {},
   "outputs": [],
   "source": [
    "xin = tf.placeholder(tf.float32, [30, 128])\n",
    "\n",
    "session = keras.backend.get_session()\n",
    "mygan = Generator(30, xin)\n",
    "\n",
    "keras.backend.set_learning_phase(False)\n",
    "model = keras.models.load_model(\"data/mnist\")\n",
    "\n",
    "touse = [x for x in tf.trainable_variables() if 'Generator' in x.name]\n",
    "saver = tf.train.Saver(touse)\n",
    "saver.restore(session, 'data/mnist-gan')\n",
    "\n",
    "(x_train, y_train), (x_test, y_test) = mnist.load_data()\n",
    "x_test = np.array(x_test, dtype=np.float32)\n",
    "x_test = x_test.reshape(x_test.shape[0], 28, 28, 1)\n",
    "x_test /= 255.0\n",
    "\n",
    "# 1. solve the inversion problem                                                                                                                                                               \n",
    "attack1 = l2_attack.CarliniL2(session, model,\n",
    "                              lambda x: Generator(30, x),\n",
    "                              binary_search_steps=1,\n",
    "                              max_iterations=3000,\n",
    "                              learning_rate=1e-1,\n",
    "                              batch_size=30,\n",
    "                              initial_const=0, targeted=None)\n",
    "\n",
    "# 2. start there, make it adversarial                                                                                                                                                          \n",
    "attack2 = l2_attack.CarliniL2(session, model,\n",
    "                              lambda x: Generator(1, x),\n",
    "                              binary_search_steps=5,\n",
    "                              max_iterations=30000,\n",
    "                              learning_rate=1e-1,\n",
    "                              batch_size=1,\n",
    "                              initial_const=1, targeted=False,\n",
    "                              noise=False, abort_early=False)\n",
    "\n"
   ]
  },
  {
   "cell_type": "code",
   "execution_count": 16,
   "metadata": {},
   "outputs": [
    {
     "name": "stdout",
     "output_type": "stream",
     "text": [
      "True label 7\n",
      "Preds [1.6938644e-10 1.3955457e-09 2.7626207e-08 6.7455002e-09 1.8495329e-11\n",
      " 2.6476349e-12 3.8272548e-15 1.0000000e+00 1.4897891e-10 3.1801573e-08]\n",
      "go up to 30\n",
      "tick 0\n"
     ]
    },
    {
     "name": "stderr",
     "output_type": "stream",
     "text": [
      "W0219 17:08:32.488272 139808513279808 module_wrapper.py:139] From /home/zhouyi/obfuscated-gradients/defensegan/l2_attack.py:178: The name tf.assign is deprecated. Please use tf.compat.v1.assign instead.\n",
      "\n"
     ]
    },
    {
     "name": "stdout",
     "output_type": "stream",
     "text": [
      "0 (2454.3506, 0.0, 2454.3506)\n",
      "300 (803.59515, 0.0, 803.59515)\n",
      "600 (709.4947, 0.0, 709.4947)\n",
      "900 (676.4509, 0.0, 676.4509)\n",
      "1200 (601.7418, 0.0, 601.7418)\n",
      "1500 (577.74744, 0.0, 577.74744)\n",
      "1800 (568.8697, 0.0, 568.8697)\n",
      "2100 (562.7727, 0.0, 562.7727)\n",
      "2400 (562.6991, 0.0, 562.6991)\n",
      "2700 (489.63208, 0.0, 489.63208)\n",
      "Distortions [7.0524673  6.3200884  0.48555344 0.5305     6.4789357  0.48962137\n",
      " 3.394742   6.886721   0.4675297  0.63765526 5.068954   6.808161\n",
      " 2.3322198  1.0930243  0.48068076 2.0573401  6.943852   7.189198\n",
      " 0.44810373 2.818974   0.6638034  0.5538179  4.1424522  0.52029365\n",
      " 1.7132046  0.48089895 6.961357   0.5815713  0.49459863 0.68951845]\n",
      "[0.44810358]\n",
      "0.44810358\n",
      "go up to 1\n",
      "tick 0\n",
      "0 (35.56478, 14.217804, 21.34698)\n",
      "3000 (8.924093, 2.940808, 5.983285)\n",
      "6000 (7.897152, 2.0997279, 5.797424)\n",
      "9000 (7.146699, 1.4372644, 5.7094345)\n",
      "12000 (7.0951986, 1.2353106, 5.859888)\n",
      "15000 (6.944693, 0.9200654, 6.0246277)\n",
      "18000 (6.8542223, 0.8006993, 6.053523)\n",
      "21000 (6.8981433, 0.7902493, 6.107894)\n",
      "24000 (6.810824, 0.6945153, 6.1163087)\n",
      "27000 (6.849491, 0.6792345, 6.1702566)\n",
      "0 (33.769127, 6.757247, 27.01188)\n",
      "3000 (7.7003155, 6.6859436, 1.014372)\n",
      "6000 (7.534365, 6.3301945, 1.2041707)\n",
      "9000 (7.844643, 6.6578712, 1.1867719)\n",
      "12000 (7.5663934, 6.2273455, 1.3390478)\n",
      "15000 (7.332196, 5.4655056, 1.8666906)\n",
      "18000 (7.139952, 5.148205, 1.9917475)\n",
      "21000 (7.1349726, 5.3004265, 1.8345459)\n",
      "24000 (7.2812247, 5.4272313, 1.8539933)\n",
      "27000 (7.091031, 5.2193995, 1.8716319)\n",
      "0 (34.019077, 10.4356985, 23.58338)\n",
      "3000 (5.3843703, 0.18026197, 5.204108)\n",
      "6000 (5.4404507, 0.48033965, 4.960111)\n",
      "9000 (4.8996234, 0.10764134, 4.791982)\n",
      "12000 (4.9331503, 0.17902136, 4.754129)\n",
      "15000 (4.9976788, 0.047504425, 4.9501743)\n",
      "18000 (4.682305, 0.0, 4.682305)\n",
      "21000 (4.7658405, 0.084882975, 4.680958)\n",
      "24000 (4.489689, 0.26333642, 4.2263527)\n",
      "27000 (4.41011, 0.0, 4.41011)\n",
      "0 (33.874306, 8.6456175, 25.22869)\n",
      "3000 (9.301525, 7.740678, 1.5608476)\n",
      "6000 (8.6612215, 6.2157145, 2.4455068)\n",
      "9000 (10.894087, 8.526991, 2.3670962)\n",
      "12000 (8.440137, 5.182309, 3.2578275)\n",
      "15000 (9.731344, 7.37691, 2.3544343)\n",
      "18000 (8.107858, 5.0862722, 3.0215852)\n",
      "21000 (8.370066, 5.2513056, 3.1187599)\n",
      "24000 (8.468617, 5.7576566, 2.710961)\n",
      "27000 (8.252631, 5.0842614, 3.1683698)\n",
      "0 (34.23865, 9.488392, 24.75026)\n",
      "3000 (7.8971424, 4.2198067, 3.6773355)\n",
      "6000 (7.436124, 3.7376525, 3.6984713)\n",
      "9000 (7.2290287, 3.6335485, 3.5954804)\n",
      "12000 (7.061467, 3.3068347, 3.7546325)\n",
      "15000 (6.965436, 3.006982, 3.958454)\n",
      "18000 (6.9153275, 2.8865776, 4.02875)\n",
      "21000 (6.869336, 2.790202, 4.0791345)\n",
      "24000 (6.92229, 2.9310856, 3.991204)\n",
      "27000 (6.9082365, 2.8089607, 4.0992756)\n",
      "L2 Distortion 2.103008014208388\n",
      "Preds [7.2249463e-06 4.8440766e-06 3.9902364e-04 5.5407560e-01 6.2079971e-07\n",
      " 5.6232613e-05 8.4249070e-09 4.4447112e-01 3.7351483e-04 6.1175454e-04]\n"
     ]
    }
   ],
   "source": [
    "print(\"True label\", y_test[0])\n",
    "print(\"Preds\",model.predict(x_test)[0])\n",
    "plt.imshow(x_test[0,:,:,0])\n",
    "plt.show()\n",
    "\n",
    "res = attack1.attack([x_test[0]]*30,\n",
    "                     [np.eye(10)[0]]*30)\n",
    "\n",
    "start = session.run(attack1.modifier)\n",
    "it = session.run(mygan, {xin: start})\n",
    "distortion = np.sum((it-[x_test[0]]*30)**2,(1,2,3))**.5\n",
    "print(\"Distortions\", distortion)\n",
    "start = np.array([start[np.argmin(distortion)]])\n",
    "\n",
    "res = session.run(Generator(1,\n",
    "                            tf.constant(start, dtype=tf.float32)))\n",
    "print(np.sum((res-x_test[:1])**2,(1,2,3))**.5)\n",
    "print(np.mean(np.sum((res-x_test[:1])**2,(1,2,3))**.5))\n",
    "\n",
    "res = attack2.attack(x_test[:1],\n",
    "                    [np.eye(10)[q] for q in y_test[:1]],\n",
    "                    start)\n",
    "\n",
    "print(\"L2 Distortion\", np.sum((res-x_test[:1])**2)**.5)\n",
    "\n",
    "print(\"Preds\",model.predict(res)[0])\n",
    "plt.imshow(res[0,:,:,0])\n",
    "plt.show()"
   ]
  },
  {
   "cell_type": "code",
   "execution_count": 19,
   "metadata": {},
   "outputs": [
    {
     "data": {
      "text/plain": [
       "<matplotlib.image.AxesImage at 0x7f26fc1bd6a0>"
      ]
     },
     "execution_count": 19,
     "metadata": {},
     "output_type": "execute_result"
    }
   ],
   "source": [
    "plt.imshow(res[0,:,:,0])"
   ]
  }
 ],
 "metadata": {
  "kernelspec": {
   "display_name": "Python 3",
   "language": "python",
   "name": "python3"
  },
  "language_info": {
   "codemirror_mode": {
    "name": "ipython",
    "version": 3
   },
   "file_extension": ".py",
   "mimetype": "text/x-python",
   "name": "python",
   "nbconvert_exporter": "python",
   "pygments_lexer": "ipython3",
   "version": "3.7.3"
  }
 },
 "nbformat": 4,
 "nbformat_minor": 4
}
